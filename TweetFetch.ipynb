{
 "cells": [
  {
   "cell_type": "markdown",
   "metadata": {},
   "source": [
    "# Fetching Tweets from Dalhousie's official twitter account and other Dalhousie-related twitter accounts"
   ]
  },
  {
   "cell_type": "code",
   "execution_count": 1,
   "metadata": {},
   "outputs": [],
   "source": [
    "import tweepy\n",
    "import pandas as pd\n",
    "from datetime import datetime\n",
    "from pandas_profiling import ProfileReport"
   ]
  },
  {
   "cell_type": "code",
   "execution_count": 3,
   "metadata": {},
   "outputs": [
    {
     "name": "stdout",
     "output_type": "stream",
     "text": [
      "Authentication OK\n"
     ]
    }
   ],
   "source": [
    "API_Key=\"crX0drgwqcy3KDlj8lfhLUbOn\"\n",
    "API_Secret_Key=\"YAfExZN1D9Fm3DeifLSupdDVlvF4VYLqF7d9HI0DhPj5NyFbeq\"\n",
    "Access_Token=\"957366389270110208-zywslCSXpqHMgKbEMxserRFWThO9NXQ\"\n",
    "Access_Secret=\"hyBTWezHj0XYXWHqiApFVAjOycO6GRPSdxtUJ3fLOhCSV\"\n",
    "\n",
    "auth = tweepy.OAuthHandler(API_Key, API_Secret_Key)\n",
    "auth.set_access_token(Access_Token,Access_Secret)\n",
    "api = tweepy.API(auth)\n",
    "\n",
    "try:\n",
    "    api.verify_credentials()\n",
    "    print(\"Authentication OK\")\n",
    "except:\n",
    "    print(\"Authentication Failed!\")"
   ]
  },
  {
   "cell_type": "markdown",
   "metadata": {},
   "source": []
  },
  {
   "cell_type": "code",
   "execution_count": 16,
   "metadata": {},
   "outputs": [],
   "source": [
    "tweets=pd.DataFrame()\n",
    "\n",
    "Dal_Accounts=[\"DalArtsCentre\", \"Dal_CSS\", \"DalIntcentre\"]\n",
    "\n",
    "# \"DalhousieU\", \"DalStudentUnion\", \"DalSecurity\", \"DalResidence\"\n",
    "# \"DalScience\", \"DalLibraries\", \"Dal_Alumni\", \"DalGazette\"\n",
    "# \"DalStudentLife\", \"DalMCS\", \"DalhousieChem\", \"DalGradStudies\", \"_dalsha\", \"DalTigers\"\n",
    "# \"workatdal\", \"DalMedSchool\", \"dalagriculture\", \"SchulichLaw\"\n",
    "# \"DalManagement\", \"EventsAtDal\", \"DalPres\"\n",
    "# \"dalplex\",\"DalWiTS\",\"dalcssd\", \"DalhousieESL\"\n",
    "# \"DalArtsCentre\", \"Dal_CSS\", \"DalIntcentre\"\n",
    "\n",
    "for target in Dal_Accounts:\n",
    "    status_vect=[]\n",
    "    for status in tweepy.Cursor(api.user_timeline, id=target, tweet_mode=\"extended\").items(3242):\n",
    "        entry={'date':status.created_at.strftime(\"%m/%d/%Y, %H:%M:%S\"),'full_text':status.full_text}\n",
    "        status_vect.append(entry)\n",
    "        \n",
    "    tweets[target]=pd.Series(status_vect)"
   ]
  },
  {
   "cell_type": "code",
   "execution_count": 17,
   "metadata": {},
   "outputs": [
    {
     "data": {
      "text/html": [
       "<div>\n",
       "<style scoped>\n",
       "    .dataframe tbody tr th:only-of-type {\n",
       "        vertical-align: middle;\n",
       "    }\n",
       "\n",
       "    .dataframe tbody tr th {\n",
       "        vertical-align: top;\n",
       "    }\n",
       "\n",
       "    .dataframe thead th {\n",
       "        text-align: right;\n",
       "    }\n",
       "</style>\n",
       "<table border=\"1\" class=\"dataframe\">\n",
       "  <thead>\n",
       "    <tr style=\"text-align: right;\">\n",
       "      <th></th>\n",
       "      <th>DalArtsCentre</th>\n",
       "      <th>Dal_CSS</th>\n",
       "      <th>DalIntcentre</th>\n",
       "    </tr>\n",
       "  </thead>\n",
       "  <tbody>\n",
       "    <tr>\n",
       "      <th>0</th>\n",
       "      <td>{'date': '01/31/2020, 15:07:12', 'full_text': ...</td>\n",
       "      <td>{'date': '11/04/2019, 22:32:56', 'full_text': ...</td>\n",
       "      <td>{'date': '01/26/2020, 15:34:37', 'full_text': ...</td>\n",
       "    </tr>\n",
       "    <tr>\n",
       "      <th>1</th>\n",
       "      <td>{'date': '01/31/2020, 13:20:51', 'full_text': ...</td>\n",
       "      <td>{'date': '10/23/2018, 12:38:20', 'full_text': ...</td>\n",
       "      <td>{'date': '01/26/2020, 12:38:27', 'full_text': ...</td>\n",
       "    </tr>\n",
       "    <tr>\n",
       "      <th>2</th>\n",
       "      <td>{'date': '01/30/2020, 17:52:16', 'full_text': ...</td>\n",
       "      <td>{'date': '09/11/2018, 12:22:02', 'full_text': ...</td>\n",
       "      <td>{'date': '01/25/2020, 00:57:06', 'full_text': ...</td>\n",
       "    </tr>\n",
       "    <tr>\n",
       "      <th>3</th>\n",
       "      <td>{'date': '01/28/2020, 19:30:42', 'full_text': ...</td>\n",
       "      <td>{'date': '08/18/2018, 23:33:35', 'full_text': ...</td>\n",
       "      <td>{'date': '01/25/2020, 00:28:21', 'full_text': ...</td>\n",
       "    </tr>\n",
       "    <tr>\n",
       "      <th>4</th>\n",
       "      <td>{'date': '01/24/2020, 17:56:55', 'full_text': ...</td>\n",
       "      <td>{'date': '07/14/2018, 01:57:26', 'full_text': ...</td>\n",
       "      <td>{'date': '01/24/2020, 23:51:06', 'full_text': ...</td>\n",
       "    </tr>\n",
       "    <tr>\n",
       "      <th>...</th>\n",
       "      <td>...</td>\n",
       "      <td>...</td>\n",
       "      <td>...</td>\n",
       "    </tr>\n",
       "    <tr>\n",
       "      <th>1542</th>\n",
       "      <td>{'date': '08/29/2016, 17:49:18', 'full_text': ...</td>\n",
       "      <td>NaN</td>\n",
       "      <td>NaN</td>\n",
       "    </tr>\n",
       "    <tr>\n",
       "      <th>1543</th>\n",
       "      <td>{'date': '08/26/2016, 18:51:23', 'full_text': ...</td>\n",
       "      <td>NaN</td>\n",
       "      <td>NaN</td>\n",
       "    </tr>\n",
       "    <tr>\n",
       "      <th>1544</th>\n",
       "      <td>{'date': '08/26/2016, 12:27:04', 'full_text': ...</td>\n",
       "      <td>NaN</td>\n",
       "      <td>NaN</td>\n",
       "    </tr>\n",
       "    <tr>\n",
       "      <th>1545</th>\n",
       "      <td>{'date': '08/23/2016, 13:25:26', 'full_text': ...</td>\n",
       "      <td>NaN</td>\n",
       "      <td>NaN</td>\n",
       "    </tr>\n",
       "    <tr>\n",
       "      <th>1546</th>\n",
       "      <td>{'date': '08/22/2016, 13:08:21', 'full_text': ...</td>\n",
       "      <td>NaN</td>\n",
       "      <td>NaN</td>\n",
       "    </tr>\n",
       "  </tbody>\n",
       "</table>\n",
       "<p>1547 rows × 3 columns</p>\n",
       "</div>"
      ],
      "text/plain": [
       "                                          DalArtsCentre  \\\n",
       "0     {'date': '01/31/2020, 15:07:12', 'full_text': ...   \n",
       "1     {'date': '01/31/2020, 13:20:51', 'full_text': ...   \n",
       "2     {'date': '01/30/2020, 17:52:16', 'full_text': ...   \n",
       "3     {'date': '01/28/2020, 19:30:42', 'full_text': ...   \n",
       "4     {'date': '01/24/2020, 17:56:55', 'full_text': ...   \n",
       "...                                                 ...   \n",
       "1542  {'date': '08/29/2016, 17:49:18', 'full_text': ...   \n",
       "1543  {'date': '08/26/2016, 18:51:23', 'full_text': ...   \n",
       "1544  {'date': '08/26/2016, 12:27:04', 'full_text': ...   \n",
       "1545  {'date': '08/23/2016, 13:25:26', 'full_text': ...   \n",
       "1546  {'date': '08/22/2016, 13:08:21', 'full_text': ...   \n",
       "\n",
       "                                                Dal_CSS  \\\n",
       "0     {'date': '11/04/2019, 22:32:56', 'full_text': ...   \n",
       "1     {'date': '10/23/2018, 12:38:20', 'full_text': ...   \n",
       "2     {'date': '09/11/2018, 12:22:02', 'full_text': ...   \n",
       "3     {'date': '08/18/2018, 23:33:35', 'full_text': ...   \n",
       "4     {'date': '07/14/2018, 01:57:26', 'full_text': ...   \n",
       "...                                                 ...   \n",
       "1542                                                NaN   \n",
       "1543                                                NaN   \n",
       "1544                                                NaN   \n",
       "1545                                                NaN   \n",
       "1546                                                NaN   \n",
       "\n",
       "                                           DalIntcentre  \n",
       "0     {'date': '01/26/2020, 15:34:37', 'full_text': ...  \n",
       "1     {'date': '01/26/2020, 12:38:27', 'full_text': ...  \n",
       "2     {'date': '01/25/2020, 00:57:06', 'full_text': ...  \n",
       "3     {'date': '01/25/2020, 00:28:21', 'full_text': ...  \n",
       "4     {'date': '01/24/2020, 23:51:06', 'full_text': ...  \n",
       "...                                                 ...  \n",
       "1542                                                NaN  \n",
       "1543                                                NaN  \n",
       "1544                                                NaN  \n",
       "1545                                                NaN  \n",
       "1546                                                NaN  \n",
       "\n",
       "[1547 rows x 3 columns]"
      ]
     },
     "execution_count": 17,
     "metadata": {},
     "output_type": "execute_result"
    }
   ],
   "source": [
    "tweets"
   ]
  },
  {
   "cell_type": "code",
   "execution_count": 18,
   "metadata": {},
   "outputs": [],
   "source": [
    "tweets.to_csv('26to28.csv')"
   ]
  },
  {
   "cell_type": "code",
   "execution_count": null,
   "metadata": {},
   "outputs": [],
   "source": []
  }
 ],
 "metadata": {
  "kernelspec": {
   "display_name": "Python 3",
   "language": "python",
   "name": "python3"
  },
  "language_info": {
   "codemirror_mode": {
    "name": "ipython",
    "version": 3
   },
   "file_extension": ".py",
   "mimetype": "text/x-python",
   "name": "python",
   "nbconvert_exporter": "python",
   "pygments_lexer": "ipython3",
   "version": "3.7.6"
  }
 },
 "nbformat": 4,
 "nbformat_minor": 4
}
